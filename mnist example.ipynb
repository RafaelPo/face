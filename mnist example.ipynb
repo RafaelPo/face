{
 "cells": [
  {
   "cell_type": "code",
   "execution_count": 1,
   "id": "94cc0f8d",
   "metadata": {},
   "outputs": [],
   "source": [
    "from sklearn import datasets\n",
    "import matplotlib.pyplot as plt\n",
    "import numpy as np\n",
    "\n",
    "from sklearn.neural_network import MLPClassifier as NN\n",
    "\n",
    "import math\n",
    "import matplotlib as mpl\n",
    "from functools import partial\n",
    "\n",
    "from sklearn.datasets import make_moons\n",
    "from sklearn.preprocessing import StandardScaler\n",
    "from sklearn.neighbors import KernelDensity\n",
    "from sklearn.model_selection import GridSearchCV, LeaveOneOut\n",
    "from sklearn.gaussian_process import GaussianProcessClassifier as GPC\n",
    "from sklearn.gaussian_process.kernels import RBF\n",
    "\n",
    "from dijsktra_algorithm import Graph, dijsktra_toall\n",
    "from density_estimator import DensityEstimator\n"
   ]
  },
  {
   "cell_type": "code",
   "execution_count": 2,
   "id": "c2b28372",
   "metadata": {},
   "outputs": [],
   "source": [
    "# https://www.python-course.eu/neural_network_mnist.php\n",
    "image_size = 28 # width and length\n",
    "no_of_different_labels = 10 #  i.e. 0, 1, 2, 3, ..., 9\n",
    "image_pixels = image_size * image_size\n",
    "data_path = \"/Users/rafaelpoyiadzi/Documents/mnist_train.csv\"\n",
    "train_data = np.loadtxt(data_path, delimiter=\",\")\n",
    "\n",
    "\n",
    "fac = 0.99 / 255\n",
    "train_imgs = np.asfarray(train_data[:, 1:]) * fac + 0.01\n",
    "train_labels = np.asfarray(train_data[:, :1]).ravel()\n"
   ]
  },
  {
   "cell_type": "code",
   "execution_count": 3,
   "id": "0abae1e7",
   "metadata": {},
   "outputs": [],
   "source": []
  },
  {
   "cell_type": "code",
   "execution_count": 4,
   "id": "3792ab2b",
   "metadata": {},
   "outputs": [],
   "source": [
    "indices0 = set(np.where(train_labels == 0)[0][:1000])\n",
    "indices8 = set(np.where(train_labels == 8)[0][:1000])\n",
    "\n",
    "\n",
    "indices = np.array(list(indices0.union(indices8)))\n",
    "\n",
    "X = train_imgs[indices, :]\n",
    "y = train_labels[indices]\n",
    "\n",
    "y[y==0]=0\n",
    "y[y==8]=1"
   ]
  },
  {
   "cell_type": "code",
   "execution_count": null,
   "id": "a772026a",
   "metadata": {},
   "outputs": [],
   "source": []
  },
  {
   "cell_type": "code",
   "execution_count": 5,
   "id": "b6e948ea",
   "metadata": {},
   "outputs": [],
   "source": [
    "def inv_log(x):\n",
    "    return -np.log(x)\n",
    "\n",
    "def get_edges(kernel):\n",
    "    edges = []\n",
    "\n",
    "    n_samples = kernel.shape[0]\n",
    "    for i in range(n_samples):\n",
    "        for j in range(i):\n",
    "            weight = kernel[i, j]\n",
    "            if weight != 0 :\n",
    "                edges.append([i, j, weight])\n",
    "                #edges.append([str(j), str(i), weight])\n",
    "    return edges\n",
    "\n",
    "\n",
    "def get_weights(X, \n",
    "                density_scorer, \n",
    "                mode,\n",
    "                weight_func = inv_log):\n",
    "    epsilon = 0.75\n",
    "    n_samples, _ = X.shape\n",
    "    k = np.zeros((n_samples, n_samples))\n",
    "    for i in range(n_samples):\n",
    "        v0 = X[i, :].reshape(-1, 1)\n",
    "        for j in range(i):\n",
    "            v1 = X[j, :].reshape(-1, 1)\n",
    "            dist = np.linalg.norm(v0 - v1)\n",
    "            if dist <= epsilon:\n",
    "                midpoint = (v0 + v1)/2\n",
    "                density = density_scorer(midpoint.reshape(1, -1))\n",
    "                if mode == 1:\n",
    "                    k[i, j] = weight_func(np.exp(density)) * dist\n",
    "                else:\n",
    "                    k[i, j] = weight_func(sigmoid(density)) * dist\n",
    "            else:\n",
    "                k[i, j] = 0\n",
    "            k[j, i] = k[i, j]\n",
    "    return k\n",
    "\n",
    "def get_weights_kNN(\n",
    "    X, \n",
    "    n_neighbours = 20,\n",
    "    alpha=0.10,\n",
    "    weight_func = inv_log\n",
    "    ):\n",
    "    n_samples, n_ftrs = X.shape\n",
    "#     volume_sphere = get_volume_of_sphere(n_ftrs)\n",
    "#     const = (n_neighbours / (n_samples * volume_sphere))**(1/n_ftrs)\n",
    "    \n",
    "    k = np.zeros((n_samples, n_samples))\n",
    "    for i in range(n_samples):\n",
    "        v0 = X[i, :].reshape(-1, 1)\n",
    "        for j in range(n_samples):\n",
    "            v1 = X[j, :].reshape(-1, 1)\n",
    "            dist = np.linalg.norm(v0 - v1)\n",
    "            k[i, j] = dist\n",
    "        t = np.argsort(k[i, :])[(n_neighbours+1):]\n",
    "        mask = np.ix_(t)\n",
    "        k[i, mask] = 0\n",
    "        \n",
    "    for i in range(n_samples):\n",
    "        v0 = X[i, :].reshape(-1, 1)\n",
    "        for j in range(n_samples):\n",
    "            v1 = X[j, :].reshape(-1, 1)\n",
    "            if k[i, j] != 0:\n",
    "                current_value = k[i, j]\n",
    "#                 k[i, j] = current_value**alpha\n",
    "                k[i, j] = weight_func(current_value)\n",
    "    return k\n",
    "\n",
    "def get_weights_e(X, \n",
    "                 epsilon = 0.75,\n",
    "                 alpha=0.10,\n",
    "                 weight_func = inv_log):\n",
    "    n_samples, n_ftrs = X.shape\n",
    "    k = np.zeros((n_samples, n_samples))\n",
    "    for i in range(n_samples):\n",
    "        v0 = X[i, :].reshape(-1, 1)\n",
    "        for j in range(i):\n",
    "            v1 = X[j, :].reshape(-1, 1)\n",
    "            dist = np.linalg.norm(v0 - v1)\n",
    "            if dist <= epsilon:\n",
    "                k[i, j] = weight_func(current_value)\n",
    "                k[j, i] = k[i, j]\n",
    "    return k"
   ]
  },
  {
   "cell_type": "code",
   "execution_count": 8,
   "id": "7905cee6",
   "metadata": {},
   "outputs": [],
   "source": [
    "clf = NN(max_iter=5000).fit(X, y)"
   ]
  },
  {
   "cell_type": "code",
   "execution_count": 9,
   "id": "8e959efb",
   "metadata": {},
   "outputs": [],
   "source": [
    "predictions = clf.predict_proba(X)"
   ]
  },
  {
   "cell_type": "code",
   "execution_count": 10,
   "id": "040517b9",
   "metadata": {},
   "outputs": [],
   "source": [
    "bandwidths = 10 ** np.linspace(-2, 0, 10)\n",
    "\n",
    "grid = GridSearchCV(\n",
    "    KernelDensity(kernel='gaussian'),\n",
    "    {'bandwidth': bandwidths},\n",
    ")\n",
    "\n",
    "grid.fit(X)\n",
    "kde = grid.best_estimator_"
   ]
  },
  {
   "cell_type": "code",
   "execution_count": 20,
   "id": "2504a62a",
   "metadata": {},
   "outputs": [],
   "source": [
    "n_neighbours = 20\n",
    "n_samples, n_features = X.shape\n",
    "\n",
    "def get_volume_of_sphere(d):\n",
    "    return math.pi**(d/2)/math.gamma(d/2 + 1)\n",
    "\n",
    "volume_sphere = get_volume_of_sphere(1)\n",
    "r = (n_neighbours / (n_samples * volume_sphere))\n",
    "    \n",
    "res = {}\n",
    "for test_index in [0, 10, 20, 30, 50]:\n",
    "    res[test_index] = {}\n",
    "    for idx, alpha in enumerate([1]):  # np.linspace(0.01, 3, 9)\n",
    "    \n",
    "        kernel = get_weights_kNN(\n",
    "            X,\n",
    "            n_neighbours=int(n_neighbours),\n",
    "            weight_func=lambda x: -x*np.log(r/x)  # x**alpha\n",
    "        )\n",
    "\n",
    "        graph = Graph()\n",
    "        edges = get_edges(kernel)\n",
    "        for edge in edges:\n",
    "            graph.add_edge(*edge) \n",
    "\n",
    "        dist, paths = dijsktra_toall(graph, test_index)\n",
    "        for item, val in paths.items():\n",
    "            if (y[item] != y[test_index] \n",
    "                and predictions[item, int(y[item])] >= 0.55):\n",
    "                res[test_index][idx] = val\n"
   ]
  },
  {
   "cell_type": "code",
   "execution_count": 21,
   "id": "d7ee86b8",
   "metadata": {},
   "outputs": [],
   "source": [
    "def plot_digits(path, _id):\n",
    "    n_digits = len(path)\n",
    "    ncols=min(10, n_digits)\n",
    "    nrows = math.ceil(n_digits / ncols)\n",
    "    _, axes = plt.subplots(nrows=nrows, ncols=ncols, figsize=(16, 4*nrows))\n",
    "    axes = axes.ravel()\n",
    "    for idx, img_idx in enumerate(path):\n",
    "        ax = axes[idx]\n",
    "        image = X[img_idx, :]\n",
    "        label = y[img_idx]\n",
    "        ax.set_axis_off()\n",
    "        ax.imshow(image.reshape(28, 28), cmap=plt.cm.gray_r, interpolation=\"nearest\")\n",
    "        ax.set_title(f\"id:{_id}, t: {label}\")\n",
    "    plt.savefig(f'example_{_id}_log.jpg', dpi=200)"
   ]
  },
  {
   "cell_type": "code",
   "execution_count": 22,
   "id": "363f072a",
   "metadata": {
    "scrolled": false
   },
   "outputs": [
    {
     "data": {
      "image/png": "[encoded data removed]",
      "text/plain": [
       "<Figure size 1152x288 with 8 Axes>"
      ]
     },
     "metadata": {
      "needs_background": "light"
     },
     "output_type": "display_data"
    },
    {
     "data": {
      "image/png": "[encoded data removed]",
      "text/plain": [
       "<Figure size 1152x288 with 9 Axes>"
      ]
     },
     "metadata": {
      "needs_background": "light"
     },
     "output_type": "display_data"
    },
    {
     "data": {
      "image/png": "[encoded data removed]",
      "text/plain": [
       "<Figure size 1152x288 with 7 Axes>"
      ]
     },
     "metadata": {
      "needs_background": "light"
     },
     "output_type": "display_data"
    },
    {
     "data": {
      "image/png": "[encoded data removed]",
      "text/plain": [
       "<Figure size 1152x288 with 9 Axes>"
      ]
     },
     "metadata": {
      "needs_background": "light"
     },
     "output_type": "display_data"
    },
    {
     "data": {
      "image/png": "[encoded data removed]",
      "text/plain": [
       "<Figure size 1152x288 with 7 Axes>"
      ]
     },
     "metadata": {
      "needs_background": "light"
     },
     "output_type": "display_data"
    }
   ],
   "source": [
    "for k in res.keys():\n",
    "    for k2 in res[k].keys():\n",
    "        plot_digits(res[k][k2], '-'.join(map(str, [k, k2])))"
   ]
  },
  {
   "cell_type": "code",
   "execution_count": 23,
   "id": "58d8f1ec",
   "metadata": {},
   "outputs": [
    {
     "data": {
      "text/plain": [
       "{0: {0: [0, 1376, 1447, 1514, 1217, 1164, 234, 301]},\n",
       " 10: {0: [10, 355, 674, 724, 1202, 392, 1083, 1903, 406]},\n",
       " 20: {0: [20, 1654, 1166, 1107, 1117, 174, 160]},\n",
       " 30: {0: [30, 1493, 1367, 1786, 1319, 981, 1000, 42, 435]},\n",
       " 50: {0: [50, 1479, 650, 541, 463, 42, 435]}}"
      ]
     },
     "execution_count": 23,
     "metadata": {},
     "output_type": "execute_result"
    }
   ],
   "source": [
    "res"
   ]
  }
 ],
 "metadata": {
  "kernelspec": {
   "display_name": "Python 3",
   "language": "python",
   "name": "python3"
  },
  "language_info": {
   "codemirror_mode": {
    "name": "ipython",
    "version": 3
   },
   "file_extension": ".py",
   "mimetype": "text/x-python",
   "name": "python",
   "nbconvert_exporter": "python",
   "pygments_lexer": "ipython3",
   "version": "3.9.1"
  }
 },
 "nbformat": 4,
 "nbformat_minor": 5
}
